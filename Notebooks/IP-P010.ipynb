{
 "cells": [
  {
   "cell_type": "markdown",
   "metadata": {},
   "source": [
    "<img align=\"center\" style=\"padding-right:10px;\" src=\"Figuras/IP-01-fig_01.png\">\n",
    "\n",
    "# INSTRUÇÃO PRÁTICA - IP-P010\n",
    "## PP - PROGRAMAÇÃO EM PYTHON\n",
    "### OBJETIVOS DA ATIVIDADE\n",
    "\n",
    "Revisar e consolidar o conteúdo de __Pandas__ e visualização de dados avançado."
   ]
  },
  {
   "cell_type": "markdown",
   "metadata": {},
   "source": [
    "__Exercício 1: Gerando o DataFrame__\n",
    "\n",
    "* No link do [Faker](https://faker.readthedocs.io/en/master/#) está disponível a documentação deste pacote que permite gerar dados falsos. Para instalação do pacote basta fazer um"
   ]
  },
  {
   "cell_type": "code",
   "execution_count": null,
   "metadata": {},
   "outputs": [],
   "source": [
    "#pip install faker\n",
    "#python -m faker cpf"
   ]
  },
  {
   "cell_type": "markdown",
   "metadata": {},
   "source": [
    "Desta forma fica disponível o script ``faker`` e o módulo para geração de dados falsos.\n",
    "\n",
    "Utilizando este módulo, fere um data frame contendo as seguintes colunas\n",
    "\n",
    "- CPF;\n",
    "- Nome;\n",
    "- Idade (entre 18 e 28);\n",
    "- Sexo;\n",
    "- Endereço de email;\n",
    "- Nota no ENEM (entre 640 e 800)\n",
    "- Abandono (True o False)\n",
    "- Qual semestre (entre 1 e 8, se Abandono for True)\n",
    "- CRA após o segundo semestre (float entre 5 e 10)\n",
    "- CRA após o quarto semestre (float entre 5 e 10)\n",
    "- CRA após o Sexto semestre (float entre 5 e 10)"
   ]
  },
  {
   "cell_type": "code",
   "execution_count": 1,
   "metadata": {},
   "outputs": [
    {
     "name": "stdout",
     "output_type": "stream",
     "text": [
      "Intel MKL WARNING: Support of Intel(R) Streaming SIMD Extensions 4.2 (Intel(R) SSE4.2) enabled only processors has been deprecated. Intel oneAPI Math Kernel Library 2025.0 will require Intel(R) Advanced Vector Extensions (Intel(R) AVX) instructions.\n",
      "Intel MKL WARNING: Support of Intel(R) Streaming SIMD Extensions 4.2 (Intel(R) SSE4.2) enabled only processors has been deprecated. Intel oneAPI Math Kernel Library 2025.0 will require Intel(R) Advanced Vector Extensions (Intel(R) AVX) instructions.\n"
     ]
    }
   ],
   "source": [
    "from faker import Faker\n",
    "fake = Faker('pt_BR')\n",
    "\n",
    "import numpy as np\n",
    "import pandas as pd"
   ]
  },
  {
   "cell_type": "code",
   "execution_count": 3,
   "metadata": {},
   "outputs": [
    {
     "name": "stdout",
     "output_type": "stream",
     "text": [
      "Help on built-in function uniform:\n",
      "\n",
      "uniform(...) method of numpy.random.mtrand.RandomState instance\n",
      "    uniform(low=0.0, high=1.0, size=None)\n",
      "    \n",
      "    Draw samples from a uniform distribution.\n",
      "    \n",
      "    Samples are uniformly distributed over the half-open interval\n",
      "    ``[low, high)`` (includes low, but excludes high).  In other words,\n",
      "    any value within the given interval is equally likely to be drawn\n",
      "    by `uniform`.\n",
      "    \n",
      "    .. note::\n",
      "        New code should use the `~numpy.random.Generator.uniform`\n",
      "        method of a `~numpy.random.Generator` instance instead;\n",
      "        please see the :ref:`random-quick-start`.\n",
      "    \n",
      "    Parameters\n",
      "    ----------\n",
      "    low : float or array_like of floats, optional\n",
      "        Lower boundary of the output interval.  All values generated will be\n",
      "        greater than or equal to low.  The default value is 0.\n",
      "    high : float or array_like of floats\n",
      "        Upper boundary of the output interval.  All values generated will be\n",
      "        less than or equal to high.  The high limit may be included in the \n",
      "        returned array of floats due to floating-point rounding in the \n",
      "        equation ``low + (high-low) * random_sample()``.  The default value \n",
      "        is 1.0.\n",
      "    size : int or tuple of ints, optional\n",
      "        Output shape.  If the given shape is, e.g., ``(m, n, k)``, then\n",
      "        ``m * n * k`` samples are drawn.  If size is ``None`` (default),\n",
      "        a single value is returned if ``low`` and ``high`` are both scalars.\n",
      "        Otherwise, ``np.broadcast(low, high).size`` samples are drawn.\n",
      "    \n",
      "    Returns\n",
      "    -------\n",
      "    out : ndarray or scalar\n",
      "        Drawn samples from the parameterized uniform distribution.\n",
      "    \n",
      "    See Also\n",
      "    --------\n",
      "    randint : Discrete uniform distribution, yielding integers.\n",
      "    random_integers : Discrete uniform distribution over the closed\n",
      "                      interval ``[low, high]``.\n",
      "    random_sample : Floats uniformly distributed over ``[0, 1)``.\n",
      "    random : Alias for `random_sample`.\n",
      "    rand : Convenience function that accepts dimensions as input, e.g.,\n",
      "           ``rand(2,2)`` would generate a 2-by-2 array of floats,\n",
      "           uniformly distributed over ``[0, 1)``.\n",
      "    random.Generator.uniform: which should be used for new code.\n",
      "    \n",
      "    Notes\n",
      "    -----\n",
      "    The probability density function of the uniform distribution is\n",
      "    \n",
      "    .. math:: p(x) = \\frac{1}{b - a}\n",
      "    \n",
      "    anywhere within the interval ``[a, b)``, and zero elsewhere.\n",
      "    \n",
      "    When ``high`` == ``low``, values of ``low`` will be returned.\n",
      "    If ``high`` < ``low``, the results are officially undefined\n",
      "    and may eventually raise an error, i.e. do not rely on this\n",
      "    function to behave when passed arguments satisfying that\n",
      "    inequality condition. The ``high`` limit may be included in the\n",
      "    returned array of floats due to floating-point rounding in the\n",
      "    equation ``low + (high-low) * random_sample()``. For example:\n",
      "    \n",
      "    >>> x = np.float32(5*0.99999999)\n",
      "    >>> x\n",
      "    5.0\n",
      "    \n",
      "    \n",
      "    Examples\n",
      "    --------\n",
      "    Draw samples from the distribution:\n",
      "    \n",
      "    >>> s = np.random.uniform(-1,0,1000)\n",
      "    \n",
      "    All values are within the given interval:\n",
      "    \n",
      "    >>> np.all(s >= -1)\n",
      "    True\n",
      "    >>> np.all(s < 0)\n",
      "    True\n",
      "    \n",
      "    Display the histogram of the samples, along with the\n",
      "    probability density function:\n",
      "    \n",
      "    >>> import matplotlib.pyplot as plt\n",
      "    >>> count, bins, ignored = plt.hist(s, 15, density=True)\n",
      "    >>> plt.plot(bins, np.ones_like(bins), linewidth=2, color='r')\n",
      "    >>> plt.show()\n",
      "\n"
     ]
    }
   ],
   "source": [
    "help(np.random.uniform)"
   ]
  },
  {
   "cell_type": "code",
   "execution_count": null,
   "metadata": {},
   "outputs": [],
   "source": [
    "lNomes = []\n",
    "lCpf = []\n",
    "lEmail = []\n",
    "lIdade = []\n",
    "lSexo = []\n",
    "lNotaENEM = []\n",
    "lCRA2do = np.full(10, np.nan)\n",
    "lCRA4to = np.full(10, np.nan)\n",
    "lCRA6to = np.full(10, np.nan)\n",
    "lAbandono = []\n",
    "lSemestre = []\n",
    "\n",
    "for i in range(10):\n",
    "    sexo = np.random.choice(['M', 'F'])\n",
    "    lSexo.append(sexo)\n",
    "    if sexo == 'M':\n",
    "        lNomes.append(fake.name_male())\n",
    "    else:\n",
    "        lNomes.append(fake.name_female())\n",
    "\n",
    "    lCpf.append(fake.cpf())\n",
    "    lEmail.append(fake.email())\n",
    "    lIdade.append(np.random.randint(18, 28))\n",
    "    \n",
    "    lNotaENEM.append(np.random.randint(640, 800))\n",
    "    #abandono = np.random.choice([True, False])\n",
    "    #abandono = fake.boolean()\n",
    "    abandono = fake.boolean(chance_of_getting_true=30)\n",
    "    lAbandono.append(abandono)\n",
    "    if abandono:\n",
    "        semestre = np.random.randint(1, 8)\n",
    "        if semestre > 2:   \n",
    "            lCRA2do[i] = np.random.uniform(5, 10)\n",
    "        if semestre > 4:\n",
    "            lCRA4to[i] = np.random.uniform(5, 10)\n",
    "        if semestre > 6:\n",
    "            lCRA6to[i] = np.random.uniform(5, 10)\n",
    "    else:\n",
    "        semestre = 0\n",
    "        lCRA2do[i] = np.random.uniform(5, 10)\n",
    "        lCRA4to[i] = np.random.uniform(5, 10)\n",
    "        lCRA6to[i] = np.random.uniform(5, 10)\n",
    "    lSemestre.append(semestre)"
   ]
  },
  {
   "cell_type": "markdown",
   "metadata": {},
   "source": [
    "Com o DataFrame criado, guarde os dados num arquivo ``csv``e envie para um colega."
   ]
  },
  {
   "cell_type": "markdown",
   "metadata": {},
   "source": [
    "Carregue os dados gerados pelo seu colega do arquivo ``csv`` e, com os dados do DataFrame\n",
    "\n",
    "1. Identifique qual q relação de alunos de sexo masculino e feminino no conjunto.\n",
    "2. Dado que os alunos tem idade entre 18 e 28 anos, mostre qual a média da nota do ENEM dos alunos agrupados por idade.\n",
    "3. Normalize as notas do ENEM de todos os alunos para um valor entre 5 e 10.\n",
    "4. Faça um gráfico de evolução das notas, desde o ENEM até CRA do sexto semestre para os 10 alunos com melhor CRA no sexto semestre. Utilize a nota do ENEM normalizada. coloque no gráfico círculos se o aluno for de sexo feminino e quadrados se for masculino.   "
   ]
  }
 ],
 "metadata": {
  "kernelspec": {
   "display_name": "Python 3 (ipykernel)",
   "language": "python",
   "name": "python3"
  },
  "language_info": {
   "codemirror_mode": {
    "name": "ipython",
    "version": 3
   },
   "file_extension": ".py",
   "mimetype": "text/x-python",
   "name": "python",
   "nbconvert_exporter": "python",
   "pygments_lexer": "ipython3",
   "version": "3.10.13"
  }
 },
 "nbformat": 4,
 "nbformat_minor": 2
}
